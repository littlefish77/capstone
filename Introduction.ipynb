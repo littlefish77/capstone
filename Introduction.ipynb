{
    "nbformat_minor": 1, 
    "cells": [
        {
            "source": "<h2> Introduction <h2>", 
            "cell_type": "markdown", 
            "metadata": {
                "collapsed": true
            }
        }, 
        {
            "source": "This project is for people who plan to open a Asian restaurant in Boston.<br> \nThis first thing to consider is the real estate rent price. We don't want it to be too expensive. <br> \nThe other factor is how many good restaurants there are in this neighborhood. If there are already a few good Asian restaurant in this neighborhood, then the competition will be strong. ", 
            "cell_type": "markdown", 
            "metadata": {}
        }, 
        {
            "source": "<h2> Data <h2>", 
            "cell_type": "markdown", 
            "metadata": {}
        }, 
        {
            "source": "24 neigborhoods in Boston was selected.<br>\nThe rent data is obtain from website showing 2019 winter information. <br>\nThe restaurant in each neighborhood and ratings are from Foursquare API. <br>\nBy combining the rent price and restaurant information, we can have a final score for each neiborhood. ", 
            "cell_type": "markdown", 
            "metadata": {}
        }
    ], 
    "metadata": {
        "kernelspec": {
            "display_name": "Python 3.5", 
            "name": "python3", 
            "language": "python"
        }, 
        "language_info": {
            "mimetype": "text/x-python", 
            "nbconvert_exporter": "python", 
            "version": "3.5.5", 
            "name": "python", 
            "pygments_lexer": "ipython3", 
            "file_extension": ".py", 
            "codemirror_mode": {
                "version": 3, 
                "name": "ipython"
            }
        }
    }, 
    "nbformat": 4
}