{
    "nbformat_minor": 1, 
    "cells": [
        {
            "source": "<h2> Introduction <h2>", 
            "cell_type": "markdown", 
            "metadata": {
                "collapsed": true
            }
        }, 
        {
            "source": "This project is for people who plan to open a Asian restaurant in Boston.\nThis first thing to consider is the real estate rent price.  The other factor is how many good restaurants there are in this neighborhood. ", 
            "cell_type": "markdown", 
            "metadata": {}
        }, 
        {
            "source": "<h2> Data <h2>", 
            "cell_type": "markdown", 
            "metadata": {}
        }, 
        {
            "source": "The rent data is obtain from website showing 2019 winter information. \nThe restaurant in each neighborhood and ratings are from Foursquare API.", 
            "cell_type": "markdown", 
            "metadata": {}
        }
    ], 
    "metadata": {
        "kernelspec": {
            "display_name": "Python 3.5", 
            "name": "python3", 
            "language": "python"
        }, 
        "language_info": {
            "mimetype": "text/x-python", 
            "nbconvert_exporter": "python", 
            "version": "3.5.5", 
            "name": "python", 
            "pygments_lexer": "ipython3", 
            "file_extension": ".py", 
            "codemirror_mode": {
                "version": 3, 
                "name": "ipython"
            }
        }
    }, 
    "nbformat": 4
}